{
 "cells": [
  {
   "metadata": {
    "ExecuteTime": {
     "end_time": "2025-01-08T21:05:26.448211Z",
     "start_time": "2025-01-08T21:05:19.846789Z"
    }
   },
   "cell_type": "code",
   "source": [
    "import pandas as pd\n",
    "import xarray as xr\n",
    "from windwhisper import windturbines\n",
    "\n",
    "fp = \"/Users/romain/Documents/Clustered_Wind_Turbine_Data.csv\"\n",
    "eu_turbines = pd.read_csv(fp)\n",
    "eu_turbines = eu_turbines[eu_turbines[\"Offshore\"] != 1]\n",
    "print(len(eu_turbines))\n",
    "\n",
    "# we can preload the wind speed data, otherwise, the tool will do it every time\n",
    "filepath_wind_speed = \"/Users/romain/GitHub/windwhisper/dev/fixtures/era5_mean_2013-2022_month_by_hour.nc\"\n",
    "filepath_correction = \"/Users/romain/GitHub/windwhisper/dev/fixtures/ratio_gwa2_era5.nc\"\n",
    "\n",
    "def wind_speed_data():\n",
    "    wind_speed = xr.open_dataset(filepath_wind_speed).to_array().mean(dim=\"month\")\n",
    "    correction = xr.open_dataset(filepath_correction).to_array()\n",
    "    correction = correction.sel(variable='ratio_gwa2_era5_mean_WS').interp(latitude=wind_speed.latitude, longitude=wind_speed.longitude, method=\"linear\")\n",
    "    return wind_speed * correction\n",
    "\n",
    "data = wind_speed_data()"
   ],
   "id": "9b32c7a79ac45836",
   "outputs": [
    {
     "name": "stdout",
     "output_type": "stream",
     "text": [
      "Using Google Elevation API\n",
      "79108\n"
     ]
    }
   ],
   "execution_count": 1
  },
  {
   "metadata": {
    "ExecuteTime": {
     "end_time": "2025-01-08T21:05:30.476873Z",
     "start_time": "2025-01-08T21:05:27.134879Z"
    }
   },
   "cell_type": "code",
   "source": [
    "wind_turbine_clusters = []\n",
    "for c in eu_turbines[\"Cluster\"].unique():\n",
    "    wind_turbine_clusters.append(\n",
    "        {\n",
    "            f\"Turbine {i}\": {\n",
    "                \"diameter\": row[\"Diameter_m\"],\n",
    "                \"hub height\": row[\"Hub_height_m\"],\n",
    "                \"position\": (row[\"Latitude\"], row[\"Longitude\"]),\n",
    "                \"power\": row[\"P_rated_kW\"],\n",
    "            }\n",
    "            for i, row in eu_turbines.loc[(eu_turbines[\"Cluster\"] == c), :].iterrows()\n",
    "        }\n",
    "    )"
   ],
   "id": "81d1472ae0c4d422",
   "outputs": [],
   "execution_count": 2
  },
  {
   "metadata": {
    "ExecuteTime": {
     "end_time": "2025-01-08T21:12:52.251544Z",
     "start_time": "2025-01-08T21:05:31.064317Z"
    }
   },
   "cell_type": "code",
   "source": [
    "import matplotlib.pyplot as plt\n",
    "import geojson\n",
    "from shapely.geometry import LineString, mapping\n",
    "\n",
    "color_map = {\n",
    "    30: \"green\",\n",
    "    40: \"yellow\",\n",
    "    55: \"orange\",\n",
    "    60: \"red\",\n",
    "    70: \"purple\",\n",
    "}\n",
    "levels=[30, 40, 55, 60]\n",
    "\n",
    "def create_geojson(data):\n",
    "    # Generate the contours\n",
    "    c = plt.contour(\n",
    "        data.lon, data.lat, data.data,\n",
    "        levels=levels,\n",
    "        colors=[color_map[k] for k in color_map.keys()],\n",
    "        linewidths=1.5\n",
    "    )\n",
    "\n",
    "    # Create a list to store GeoJSON features\n",
    "    geojson_features = []\n",
    "\n",
    "    for i, collection in enumerate(c.collections):\n",
    "        for path in collection.get_paths():\n",
    "            for line in path.to_polygons():\n",
    "                coords = [\n",
    "                    (x, y) for x, y in line\n",
    "                ]\n",
    "\n",
    "                # Add the geometry as a GeoJSON feature\n",
    "                geojson_features.append(\n",
    "                    geojson.Feature(\n",
    "                        geometry=mapping(LineString(coords)),\n",
    "                        properties={\n",
    "                            \"level\": c.levels[i],\n",
    "                            \"color\": color_map[c.levels[i]]\n",
    "                        }\n",
    "                    )\n",
    "                )\n",
    "\n",
    "    # Create a GeoJSON FeatureCollection\n",
    "    return geojson.FeatureCollection(geojson_features)\n",
    "\n",
    "geojson_objs = []\n",
    "\n",
    "for c, wind_turbines in enumerate(wind_turbine_clusters):\n",
    "    wt = windturbines.WindTurbines(\n",
    "        wind_turbines=wind_turbines,\n",
    "        wind_speed_data=data,\n",
    "    )\n",
    "\n",
    "    geojson_objs.append(create_geojson(wt.noise_analysis.merged_map[\"net\"]))\n",
    "    # save the geojson object to a file\n",
    "    #with open(f\"eu_map/cluster_{c}.geojson\", \"w\") as f:\n",
    "    #    geojson.dump(geojson_obj, f)\n",
    "    print(f\"Cluster {c} done (out of {len(wind_turbine_clusters)})\")\n",
    "\n",
    "#wt.noise_analysis.generate_map()"
   ],
   "id": "dff9e0ac374b9f08",
   "outputs": [
    {
     "name": "stdout",
     "output_type": "stream",
     "text": [
      "Using Google Elevation API\n",
      "Using Google Elevation API\n",
      "Using Google Elevation API\n",
      "Using Google Elevation API\n",
      "Using Google Elevation API\n",
      "Using Google Elevation API\n",
      "Using Google Elevation API\n",
      "Using Google Elevation API\n"
     ]
    },
    {
     "name": "stderr",
     "output_type": "stream",
     "text": [
      "/opt/homebrew/Caskroom/miniforge/base/envs/windwhisper/lib/python3.10/site-packages/rasterio/io.py:140: NotGeoreferencedWarning: Dataset has no geotransform, gcps, or rpcs. The identity matrix will be returned.\n",
      "  rd = DatasetReader(mempath, driver=driver, sharing=sharing, **kwargs)\n",
      "/var/folders/cn/pys1j9rn0y7djkhv3hfdtrs00000gn/T/ipykernel_33384/1921810663.py:26: MatplotlibDeprecationWarning: The collections attribute was deprecated in Matplotlib 3.8 and will be removed two minor releases later.\n",
      "  for i, collection in enumerate(c.collections):\n"
     ]
    },
    {
     "name": "stdout",
     "output_type": "stream",
     "text": [
      "Cluster 0 done (out of 12484)\n",
      "Using Google Elevation API\n"
     ]
    },
    {
     "name": "stderr",
     "output_type": "stream",
     "text": [
      "/opt/homebrew/Caskroom/miniforge/base/envs/windwhisper/lib/python3.10/site-packages/rasterio/io.py:140: NotGeoreferencedWarning: Dataset has no geotransform, gcps, or rpcs. The identity matrix will be returned.\n",
      "  rd = DatasetReader(mempath, driver=driver, sharing=sharing, **kwargs)\n",
      "/var/folders/cn/pys1j9rn0y7djkhv3hfdtrs00000gn/T/ipykernel_33384/1921810663.py:26: MatplotlibDeprecationWarning: The collections attribute was deprecated in Matplotlib 3.8 and will be removed two minor releases later.\n",
      "  for i, collection in enumerate(c.collections):\n"
     ]
    },
    {
     "name": "stdout",
     "output_type": "stream",
     "text": [
      "Cluster 1 done (out of 12484)\n",
      "Using Google Elevation API\n",
      "Using Google Elevation API\n"
     ]
    },
    {
     "name": "stderr",
     "output_type": "stream",
     "text": [
      "/opt/homebrew/Caskroom/miniforge/base/envs/windwhisper/lib/python3.10/site-packages/rasterio/io.py:140: NotGeoreferencedWarning: Dataset has no geotransform, gcps, or rpcs. The identity matrix will be returned.\n",
      "  rd = DatasetReader(mempath, driver=driver, sharing=sharing, **kwargs)\n",
      "/var/folders/cn/pys1j9rn0y7djkhv3hfdtrs00000gn/T/ipykernel_33384/1921810663.py:26: MatplotlibDeprecationWarning: The collections attribute was deprecated in Matplotlib 3.8 and will be removed two minor releases later.\n",
      "  for i, collection in enumerate(c.collections):\n"
     ]
    },
    {
     "name": "stdout",
     "output_type": "stream",
     "text": [
      "Cluster 2 done (out of 12484)\n",
      "Using Google Elevation API\n",
      "Using Google Elevation API\n",
      "Using Google Elevation API\n",
      "Using Google Elevation API\n",
      "Using Google Elevation API\n",
      "Using Google Elevation API\n",
      "Using Google Elevation API\n",
      "Using Google Elevation API\n"
     ]
    },
    {
     "name": "stderr",
     "output_type": "stream",
     "text": [
      "/opt/homebrew/Caskroom/miniforge/base/envs/windwhisper/lib/python3.10/site-packages/rasterio/io.py:140: NotGeoreferencedWarning: Dataset has no geotransform, gcps, or rpcs. The identity matrix will be returned.\n",
      "  rd = DatasetReader(mempath, driver=driver, sharing=sharing, **kwargs)\n",
      "/var/folders/cn/pys1j9rn0y7djkhv3hfdtrs00000gn/T/ipykernel_33384/1921810663.py:26: MatplotlibDeprecationWarning: The collections attribute was deprecated in Matplotlib 3.8 and will be removed two minor releases later.\n",
      "  for i, collection in enumerate(c.collections):\n"
     ]
    },
    {
     "name": "stdout",
     "output_type": "stream",
     "text": [
      "Cluster 3 done (out of 12484)\n",
      "Using Google Elevation API\n",
      "Using Google Elevation API\n",
      "Using Google Elevation API\n",
      "Using Google Elevation API\n",
      "Using Google Elevation API\n",
      "Using Google Elevation API\n",
      "Using Google Elevation API\n",
      "Using Google Elevation API\n"
     ]
    },
    {
     "name": "stderr",
     "output_type": "stream",
     "text": [
      "/opt/homebrew/Caskroom/miniforge/base/envs/windwhisper/lib/python3.10/site-packages/rasterio/io.py:140: NotGeoreferencedWarning: Dataset has no geotransform, gcps, or rpcs. The identity matrix will be returned.\n",
      "  rd = DatasetReader(mempath, driver=driver, sharing=sharing, **kwargs)\n",
      "/var/folders/cn/pys1j9rn0y7djkhv3hfdtrs00000gn/T/ipykernel_33384/1921810663.py:26: MatplotlibDeprecationWarning: The collections attribute was deprecated in Matplotlib 3.8 and will be removed two minor releases later.\n",
      "  for i, collection in enumerate(c.collections):\n"
     ]
    },
    {
     "name": "stdout",
     "output_type": "stream",
     "text": [
      "Cluster 4 done (out of 12484)\n",
      "Using Google Elevation API\n",
      "Using Google Elevation API\n",
      "Using Google Elevation API\n",
      "Using Google Elevation API\n",
      "Using Google Elevation API\n",
      "Using Google Elevation API\n",
      "Using Google Elevation API\n",
      "Using Google Elevation API\n"
     ]
    },
    {
     "name": "stderr",
     "output_type": "stream",
     "text": [
      "/opt/homebrew/Caskroom/miniforge/base/envs/windwhisper/lib/python3.10/site-packages/rasterio/io.py:140: NotGeoreferencedWarning: Dataset has no geotransform, gcps, or rpcs. The identity matrix will be returned.\n",
      "  rd = DatasetReader(mempath, driver=driver, sharing=sharing, **kwargs)\n",
      "/var/folders/cn/pys1j9rn0y7djkhv3hfdtrs00000gn/T/ipykernel_33384/1921810663.py:26: MatplotlibDeprecationWarning: The collections attribute was deprecated in Matplotlib 3.8 and will be removed two minor releases later.\n",
      "  for i, collection in enumerate(c.collections):\n"
     ]
    },
    {
     "name": "stdout",
     "output_type": "stream",
     "text": [
      "Cluster 5 done (out of 12484)\n",
      "Using Google Elevation API\n",
      "Using Google Elevation API\n",
      "Using Google Elevation API\n",
      "Using Google Elevation API\n",
      "Using Google Elevation API\n",
      "Using Google Elevation API\n",
      "Using Google Elevation API\n",
      "Using Google Elevation API\n"
     ]
    },
    {
     "name": "stderr",
     "output_type": "stream",
     "text": [
      "/opt/homebrew/Caskroom/miniforge/base/envs/windwhisper/lib/python3.10/site-packages/rasterio/io.py:140: NotGeoreferencedWarning: Dataset has no geotransform, gcps, or rpcs. The identity matrix will be returned.\n",
      "  rd = DatasetReader(mempath, driver=driver, sharing=sharing, **kwargs)\n",
      "/var/folders/cn/pys1j9rn0y7djkhv3hfdtrs00000gn/T/ipykernel_33384/1921810663.py:26: MatplotlibDeprecationWarning: The collections attribute was deprecated in Matplotlib 3.8 and will be removed two minor releases later.\n",
      "  for i, collection in enumerate(c.collections):\n"
     ]
    },
    {
     "name": "stdout",
     "output_type": "stream",
     "text": [
      "Cluster 6 done (out of 12484)\n",
      "Using Google Elevation API\n",
      "Using Google Elevation API\n",
      "Using Google Elevation API\n",
      "Using Google Elevation API\n",
      "Using Google Elevation API\n",
      "Using Google Elevation API\n"
     ]
    },
    {
     "name": "stderr",
     "output_type": "stream",
     "text": [
      "/opt/homebrew/Caskroom/miniforge/base/envs/windwhisper/lib/python3.10/site-packages/rasterio/io.py:140: NotGeoreferencedWarning: Dataset has no geotransform, gcps, or rpcs. The identity matrix will be returned.\n",
      "  rd = DatasetReader(mempath, driver=driver, sharing=sharing, **kwargs)\n",
      "/var/folders/cn/pys1j9rn0y7djkhv3hfdtrs00000gn/T/ipykernel_33384/1921810663.py:26: MatplotlibDeprecationWarning: The collections attribute was deprecated in Matplotlib 3.8 and will be removed two minor releases later.\n",
      "  for i, collection in enumerate(c.collections):\n"
     ]
    },
    {
     "name": "stdout",
     "output_type": "stream",
     "text": [
      "Cluster 7 done (out of 12484)\n",
      "Using Google Elevation API\n"
     ]
    },
    {
     "name": "stderr",
     "output_type": "stream",
     "text": [
      "/opt/homebrew/Caskroom/miniforge/base/envs/windwhisper/lib/python3.10/site-packages/rasterio/io.py:140: NotGeoreferencedWarning: Dataset has no geotransform, gcps, or rpcs. The identity matrix will be returned.\n",
      "  rd = DatasetReader(mempath, driver=driver, sharing=sharing, **kwargs)\n",
      "/var/folders/cn/pys1j9rn0y7djkhv3hfdtrs00000gn/T/ipykernel_33384/1921810663.py:26: MatplotlibDeprecationWarning: The collections attribute was deprecated in Matplotlib 3.8 and will be removed two minor releases later.\n",
      "  for i, collection in enumerate(c.collections):\n"
     ]
    },
    {
     "name": "stdout",
     "output_type": "stream",
     "text": [
      "Cluster 8 done (out of 12484)\n",
      "Using Google Elevation API\n"
     ]
    },
    {
     "name": "stderr",
     "output_type": "stream",
     "text": [
      "/opt/homebrew/Caskroom/miniforge/base/envs/windwhisper/lib/python3.10/site-packages/rasterio/io.py:140: NotGeoreferencedWarning: Dataset has no geotransform, gcps, or rpcs. The identity matrix will be returned.\n",
      "  rd = DatasetReader(mempath, driver=driver, sharing=sharing, **kwargs)\n",
      "/var/folders/cn/pys1j9rn0y7djkhv3hfdtrs00000gn/T/ipykernel_33384/1921810663.py:26: MatplotlibDeprecationWarning: The collections attribute was deprecated in Matplotlib 3.8 and will be removed two minor releases later.\n",
      "  for i, collection in enumerate(c.collections):\n"
     ]
    },
    {
     "name": "stdout",
     "output_type": "stream",
     "text": [
      "Cluster 9 done (out of 12484)\n",
      "Using Google Elevation API\n"
     ]
    },
    {
     "name": "stderr",
     "output_type": "stream",
     "text": [
      "/opt/homebrew/Caskroom/miniforge/base/envs/windwhisper/lib/python3.10/site-packages/rasterio/io.py:140: NotGeoreferencedWarning: Dataset has no geotransform, gcps, or rpcs. The identity matrix will be returned.\n",
      "  rd = DatasetReader(mempath, driver=driver, sharing=sharing, **kwargs)\n",
      "/var/folders/cn/pys1j9rn0y7djkhv3hfdtrs00000gn/T/ipykernel_33384/1921810663.py:26: MatplotlibDeprecationWarning: The collections attribute was deprecated in Matplotlib 3.8 and will be removed two minor releases later.\n",
      "  for i, collection in enumerate(c.collections):\n"
     ]
    },
    {
     "name": "stdout",
     "output_type": "stream",
     "text": [
      "Cluster 10 done (out of 12484)\n",
      "Using Google Elevation API\n"
     ]
    },
    {
     "name": "stderr",
     "output_type": "stream",
     "text": [
      "/opt/homebrew/Caskroom/miniforge/base/envs/windwhisper/lib/python3.10/site-packages/rasterio/io.py:140: NotGeoreferencedWarning: Dataset has no geotransform, gcps, or rpcs. The identity matrix will be returned.\n",
      "  rd = DatasetReader(mempath, driver=driver, sharing=sharing, **kwargs)\n",
      "/var/folders/cn/pys1j9rn0y7djkhv3hfdtrs00000gn/T/ipykernel_33384/1921810663.py:26: MatplotlibDeprecationWarning: The collections attribute was deprecated in Matplotlib 3.8 and will be removed two minor releases later.\n",
      "  for i, collection in enumerate(c.collections):\n"
     ]
    },
    {
     "name": "stdout",
     "output_type": "stream",
     "text": [
      "Cluster 11 done (out of 12484)\n",
      "Using Google Elevation API\n",
      "Using Google Elevation API\n",
      "Using Google Elevation API\n",
      "Using Google Elevation API\n",
      "Using Google Elevation API\n",
      "Using Google Elevation API\n",
      "Using Google Elevation API\n",
      "Using Google Elevation API\n"
     ]
    },
    {
     "name": "stderr",
     "output_type": "stream",
     "text": [
      "/opt/homebrew/Caskroom/miniforge/base/envs/windwhisper/lib/python3.10/site-packages/rasterio/io.py:140: NotGeoreferencedWarning: Dataset has no geotransform, gcps, or rpcs. The identity matrix will be returned.\n",
      "  rd = DatasetReader(mempath, driver=driver, sharing=sharing, **kwargs)\n",
      "/var/folders/cn/pys1j9rn0y7djkhv3hfdtrs00000gn/T/ipykernel_33384/1921810663.py:26: MatplotlibDeprecationWarning: The collections attribute was deprecated in Matplotlib 3.8 and will be removed two minor releases later.\n",
      "  for i, collection in enumerate(c.collections):\n"
     ]
    },
    {
     "name": "stdout",
     "output_type": "stream",
     "text": [
      "Cluster 12 done (out of 12484)\n",
      "Using Google Elevation API\n",
      "Using Google Elevation API\n",
      "Using Google Elevation API\n",
      "Using Google Elevation API\n",
      "Using Google Elevation API\n",
      "Using Google Elevation API\n",
      "Using Google Elevation API\n",
      "Using Google Elevation API\n"
     ]
    },
    {
     "name": "stderr",
     "output_type": "stream",
     "text": [
      "/opt/homebrew/Caskroom/miniforge/base/envs/windwhisper/lib/python3.10/site-packages/rasterio/io.py:140: NotGeoreferencedWarning: Dataset has no geotransform, gcps, or rpcs. The identity matrix will be returned.\n",
      "  rd = DatasetReader(mempath, driver=driver, sharing=sharing, **kwargs)\n",
      "/var/folders/cn/pys1j9rn0y7djkhv3hfdtrs00000gn/T/ipykernel_33384/1921810663.py:26: MatplotlibDeprecationWarning: The collections attribute was deprecated in Matplotlib 3.8 and will be removed two minor releases later.\n",
      "  for i, collection in enumerate(c.collections):\n"
     ]
    },
    {
     "name": "stdout",
     "output_type": "stream",
     "text": [
      "Cluster 13 done (out of 12484)\n",
      "Using Google Elevation API\n",
      "Using Google Elevation API\n",
      "Using Google Elevation API\n",
      "Using Google Elevation API\n",
      "Using Google Elevation API\n",
      "Using Google Elevation API\n",
      "Using Google Elevation API\n",
      "Using Google Elevation API\n"
     ]
    },
    {
     "name": "stderr",
     "output_type": "stream",
     "text": [
      "/opt/homebrew/Caskroom/miniforge/base/envs/windwhisper/lib/python3.10/site-packages/rasterio/io.py:140: NotGeoreferencedWarning: Dataset has no geotransform, gcps, or rpcs. The identity matrix will be returned.\n",
      "  rd = DatasetReader(mempath, driver=driver, sharing=sharing, **kwargs)\n",
      "/var/folders/cn/pys1j9rn0y7djkhv3hfdtrs00000gn/T/ipykernel_33384/1921810663.py:26: MatplotlibDeprecationWarning: The collections attribute was deprecated in Matplotlib 3.8 and will be removed two minor releases later.\n",
      "  for i, collection in enumerate(c.collections):\n"
     ]
    },
    {
     "name": "stdout",
     "output_type": "stream",
     "text": [
      "Cluster 14 done (out of 12484)\n",
      "Using Google Elevation API\n"
     ]
    },
    {
     "name": "stderr",
     "output_type": "stream",
     "text": [
      "/opt/homebrew/Caskroom/miniforge/base/envs/windwhisper/lib/python3.10/site-packages/rasterio/io.py:140: NotGeoreferencedWarning: Dataset has no geotransform, gcps, or rpcs. The identity matrix will be returned.\n",
      "  rd = DatasetReader(mempath, driver=driver, sharing=sharing, **kwargs)\n",
      "/var/folders/cn/pys1j9rn0y7djkhv3hfdtrs00000gn/T/ipykernel_33384/1921810663.py:26: MatplotlibDeprecationWarning: The collections attribute was deprecated in Matplotlib 3.8 and will be removed two minor releases later.\n",
      "  for i, collection in enumerate(c.collections):\n"
     ]
    },
    {
     "name": "stdout",
     "output_type": "stream",
     "text": [
      "Cluster 15 done (out of 12484)\n",
      "Using Google Elevation API\n",
      "Using Google Elevation API\n",
      "Using Google Elevation API\n",
      "Using Google Elevation API\n",
      "Using Google Elevation API\n",
      "Using Google Elevation API\n",
      "Using Google Elevation API\n",
      "Using Google Elevation API\n"
     ]
    },
    {
     "ename": "TypeError",
     "evalue": "int() argument must be a string, a bytes-like object or a real number, not 'NoneType'",
     "output_type": "error",
     "traceback": [
      "\u001B[0;31m---------------------------------------------------------------------------\u001B[0m",
      "\u001B[0;31mTypeError\u001B[0m                                 Traceback (most recent call last)",
      "Cell \u001B[0;32mIn[3], line 50\u001B[0m\n\u001B[1;32m     47\u001B[0m geojson_objs \u001B[38;5;241m=\u001B[39m []\n\u001B[1;32m     49\u001B[0m \u001B[38;5;28;01mfor\u001B[39;00m c, wind_turbines \u001B[38;5;129;01min\u001B[39;00m \u001B[38;5;28menumerate\u001B[39m(wind_turbine_clusters):\n\u001B[0;32m---> 50\u001B[0m     wt \u001B[38;5;241m=\u001B[39m \u001B[43mwindturbines\u001B[49m\u001B[38;5;241;43m.\u001B[39;49m\u001B[43mWindTurbines\u001B[49m\u001B[43m(\u001B[49m\n\u001B[1;32m     51\u001B[0m \u001B[43m        \u001B[49m\u001B[43mwind_turbines\u001B[49m\u001B[38;5;241;43m=\u001B[39;49m\u001B[43mwind_turbines\u001B[49m\u001B[43m,\u001B[49m\n\u001B[1;32m     52\u001B[0m \u001B[43m        \u001B[49m\u001B[43mwind_speed_data\u001B[49m\u001B[38;5;241;43m=\u001B[39;49m\u001B[43mdata\u001B[49m\u001B[43m,\u001B[49m\n\u001B[1;32m     53\u001B[0m \u001B[43m    \u001B[49m\u001B[43m)\u001B[49m\n\u001B[1;32m     55\u001B[0m     geojson_objs\u001B[38;5;241m.\u001B[39mappend(create_geojson(wt\u001B[38;5;241m.\u001B[39mnoise_analysis\u001B[38;5;241m.\u001B[39mmerged_map[\u001B[38;5;124m\"\u001B[39m\u001B[38;5;124mnet\u001B[39m\u001B[38;5;124m\"\u001B[39m]))\n\u001B[1;32m     56\u001B[0m     \u001B[38;5;66;03m# save the geojson object to a file\u001B[39;00m\n\u001B[1;32m     57\u001B[0m     \u001B[38;5;66;03m#with open(f\"eu_map/cluster_{c}.geojson\", \"w\") as f:\u001B[39;00m\n\u001B[1;32m     58\u001B[0m     \u001B[38;5;66;03m#    geojson.dump(geojson_obj, f)\u001B[39;00m\n",
      "File \u001B[0;32m~/GitHub/windwhisper/windwhisper/windturbines.py:288\u001B[0m, in \u001B[0;36mWindTurbines.__init__\u001B[0;34m(self, wind_turbines, listeners, model_file, retrain_model, dataset_file, wind_speed_data, humidity, temperature)\u001B[0m\n\u001B[1;32m    282\u001B[0m \u001B[38;5;28mself\u001B[39m\u001B[38;5;241m.\u001B[39mfetch_noise_level_vs_wind_speed()\n\u001B[1;32m    283\u001B[0m \u001B[38;5;28mself\u001B[39m\u001B[38;5;241m.\u001B[39mnoise_propagation \u001B[38;5;241m=\u001B[39m NoisePropagation(\n\u001B[1;32m    284\u001B[0m     wind_turbines\u001B[38;5;241m=\u001B[39m\u001B[38;5;28mself\u001B[39m\u001B[38;5;241m.\u001B[39mwind_turbines,\n\u001B[1;32m    285\u001B[0m     humidity\u001B[38;5;241m=\u001B[39mhumidity,\n\u001B[1;32m    286\u001B[0m     temperature\u001B[38;5;241m=\u001B[39mtemperature\n\u001B[1;32m    287\u001B[0m )\n\u001B[0;32m--> 288\u001B[0m \u001B[38;5;28mself\u001B[39m\u001B[38;5;241m.\u001B[39mnoise_analysis \u001B[38;5;241m=\u001B[39m \u001B[43mNoiseAnalysis\u001B[49m\u001B[43m(\u001B[49m\n\u001B[1;32m    289\u001B[0m \u001B[43m    \u001B[49m\u001B[43mnoise_propagation\u001B[49m\u001B[38;5;241;43m=\u001B[39;49m\u001B[38;5;28;43mself\u001B[39;49m\u001B[38;5;241;43m.\u001B[39;49m\u001B[43mnoise_propagation\u001B[49m\u001B[43m,\u001B[49m\n\u001B[1;32m    290\u001B[0m \u001B[43m    \u001B[49m\u001B[43mwind_turbines\u001B[49m\u001B[38;5;241;43m=\u001B[39;49m\u001B[38;5;28;43mself\u001B[39;49m\u001B[38;5;241;43m.\u001B[39;49m\u001B[43mwind_turbines\u001B[49m\u001B[43m,\u001B[49m\n\u001B[1;32m    291\u001B[0m \u001B[43m\u001B[49m\u001B[43m)\u001B[49m\n\u001B[1;32m    292\u001B[0m \u001B[38;5;28mself\u001B[39m\u001B[38;5;241m.\u001B[39mwind_turbines \u001B[38;5;241m=\u001B[39m \u001B[38;5;28mself\u001B[39m\u001B[38;5;241m.\u001B[39mnoise_analysis\u001B[38;5;241m.\u001B[39mwind_turbines\n",
      "File \u001B[0;32m~/GitHub/windwhisper/windwhisper/noiseanalysis.py:27\u001B[0m, in \u001B[0;36mNoiseAnalysis.__init__\u001B[0;34m(self, noise_propagation, wind_turbines)\u001B[0m\n\u001B[1;32m     24\u001B[0m lat_min \u001B[38;5;241m=\u001B[39m \u001B[38;5;28mself\u001B[39m\u001B[38;5;241m.\u001B[39mnoise_propagation\u001B[38;5;241m.\u001B[39mhourly_noise_levels\u001B[38;5;241m.\u001B[39mcoords[\u001B[38;5;124m\"\u001B[39m\u001B[38;5;124mlat\u001B[39m\u001B[38;5;124m\"\u001B[39m]\u001B[38;5;241m.\u001B[39mmin()\u001B[38;5;241m.\u001B[39mvalues\u001B[38;5;241m.\u001B[39mitem()\n\u001B[1;32m     25\u001B[0m lat_max \u001B[38;5;241m=\u001B[39m \u001B[38;5;28mself\u001B[39m\u001B[38;5;241m.\u001B[39mnoise_propagation\u001B[38;5;241m.\u001B[39mhourly_noise_levels\u001B[38;5;241m.\u001B[39mcoords[\u001B[38;5;124m\"\u001B[39m\u001B[38;5;124mlat\u001B[39m\u001B[38;5;124m\"\u001B[39m]\u001B[38;5;241m.\u001B[39mmax()\u001B[38;5;241m.\u001B[39mvalues\u001B[38;5;241m.\u001B[39mitem()\n\u001B[0;32m---> 27\u001B[0m \u001B[38;5;28mself\u001B[39m\u001B[38;5;241m.\u001B[39mambient_noise_map \u001B[38;5;241m=\u001B[39m \u001B[43mget_ambient_noise_levels\u001B[49m\u001B[43m(\u001B[49m\n\u001B[1;32m     28\u001B[0m \u001B[43m    \u001B[49m\u001B[43mlatitudes\u001B[49m\u001B[38;5;241;43m=\u001B[39;49m\u001B[38;5;28;43mself\u001B[39;49m\u001B[38;5;241;43m.\u001B[39;49m\u001B[43mnoise_propagation\u001B[49m\u001B[38;5;241;43m.\u001B[39;49m\u001B[43mLAT\u001B[49m\u001B[43m,\u001B[49m\n\u001B[1;32m     29\u001B[0m \u001B[43m    \u001B[49m\u001B[43mlongitudes\u001B[49m\u001B[38;5;241;43m=\u001B[39;49m\u001B[38;5;28;43mself\u001B[39;49m\u001B[38;5;241;43m.\u001B[39;49m\u001B[43mnoise_propagation\u001B[49m\u001B[38;5;241;43m.\u001B[39;49m\u001B[43mLON\u001B[49m\u001B[43m,\u001B[49m\n\u001B[1;32m     30\u001B[0m \u001B[43m    \u001B[49m\u001B[43mresolution\u001B[49m\u001B[38;5;241;43m=\u001B[39;49m\u001B[38;5;28;43mself\u001B[39;49m\u001B[38;5;241;43m.\u001B[39;49m\u001B[43mlden_map\u001B[49m\u001B[38;5;241;43m.\u001B[39;49m\u001B[43mshape\u001B[49m\n\u001B[1;32m     31\u001B[0m \u001B[43m\u001B[49m\u001B[43m)\u001B[49m\n\u001B[1;32m     33\u001B[0m \u001B[38;5;28mself\u001B[39m\u001B[38;5;241m.\u001B[39msettlement_map \u001B[38;5;241m=\u001B[39m get_wsf_map_preview(\n\u001B[1;32m     34\u001B[0m     lon_min\u001B[38;5;241m=\u001B[39mlon_min,\n\u001B[1;32m     35\u001B[0m     lon_max\u001B[38;5;241m=\u001B[39mlon_max,\n\u001B[0;32m   (...)\u001B[0m\n\u001B[1;32m     38\u001B[0m     resolution\u001B[38;5;241m=\u001B[39m\u001B[38;5;28mself\u001B[39m\u001B[38;5;241m.\u001B[39mlden_map\u001B[38;5;241m.\u001B[39mshape\n\u001B[1;32m     39\u001B[0m )\n\u001B[1;32m     41\u001B[0m \u001B[38;5;28mself\u001B[39m\u001B[38;5;241m.\u001B[39mmerged_map \u001B[38;5;241m=\u001B[39m \u001B[38;5;28mself\u001B[39m\u001B[38;5;241m.\u001B[39mmerge_maps()\n",
      "File \u001B[0;32m~/GitHub/windwhisper/windwhisper/ambient_noise.py:94\u001B[0m, in \u001B[0;36mget_ambient_noise_levels\u001B[0;34m(latitudes, longitudes, resolution)\u001B[0m\n\u001B[1;32m     91\u001B[0m x_max, y_max \u001B[38;5;241m=\u001B[39m translate_4326_to_3035(longitudes\u001B[38;5;241m.\u001B[39mmax(), latitudes\u001B[38;5;241m.\u001B[39mmax())\n\u001B[1;32m     93\u001B[0m \u001B[38;5;28;01mfor\u001B[39;00m t, url \u001B[38;5;129;01min\u001B[39;00m NOISE_MAPS_URLS\u001B[38;5;241m.\u001B[39mitems():\n\u001B[0;32m---> 94\u001B[0m     layer \u001B[38;5;241m=\u001B[39m \u001B[43mget_noise_values\u001B[49m\u001B[43m(\u001B[49m\u001B[43murl\u001B[49m\u001B[43m,\u001B[49m\u001B[43m \u001B[49m\u001B[43mx_min\u001B[49m\u001B[43m,\u001B[49m\u001B[43m \u001B[49m\u001B[43mx_max\u001B[49m\u001B[43m,\u001B[49m\u001B[43m \u001B[49m\u001B[43my_min\u001B[49m\u001B[43m,\u001B[49m\u001B[43m \u001B[49m\u001B[43my_max\u001B[49m\u001B[43m,\u001B[49m\u001B[43m \u001B[49m\u001B[43mresolution\u001B[49m\u001B[43m)\u001B[49m\n\u001B[1;32m     96\u001B[0m     layer \u001B[38;5;241m=\u001B[39m np\u001B[38;5;241m.\u001B[39mwhere(layer \u001B[38;5;241m==\u001B[39m \u001B[38;5;28;01mNone\u001B[39;00m, \u001B[38;5;241m0\u001B[39m, layer)  \u001B[38;5;66;03m# Convert None to 0\u001B[39;00m\n\u001B[1;32m     97\u001B[0m     layer \u001B[38;5;241m=\u001B[39m layer\u001B[38;5;241m.\u001B[39mastype(\u001B[38;5;28mfloat\u001B[39m)\n",
      "File \u001B[0;32m~/GitHub/windwhisper/windwhisper/ambient_noise.py:56\u001B[0m, in \u001B[0;36mget_noise_values\u001B[0;34m(url, x_min, x_max, y_min, y_max, resolution)\u001B[0m\n\u001B[1;32m     54\u001B[0m             data \u001B[38;5;241m=\u001B[39m dataset\u001B[38;5;241m.\u001B[39mread(\u001B[38;5;241m1\u001B[39m)\n\u001B[1;32m     55\u001B[0m             data \u001B[38;5;241m=\u001B[39m np\u001B[38;5;241m.\u001B[39mnan_to_num(data, nan\u001B[38;5;241m=\u001B[39m\u001B[38;5;241m15\u001B[39m)  \u001B[38;5;66;03m# Replace NaN values with 15\u001B[39;00m\n\u001B[0;32m---> 56\u001B[0m             data \u001B[38;5;241m=\u001B[39m \u001B[43mnp\u001B[49m\u001B[38;5;241;43m.\u001B[39;49m\u001B[43mvectorize\u001B[49m\u001B[43m(\u001B[49m\u001B[43mPIXEL_VALUE_TO_LDEN\u001B[49m\u001B[38;5;241;43m.\u001B[39;49m\u001B[43mget\u001B[49m\u001B[43m)\u001B[49m\u001B[43m(\u001B[49m\u001B[43mdata\u001B[49m\u001B[43m)\u001B[49m\n\u001B[1;32m     57\u001B[0m             \u001B[38;5;28;01mreturn\u001B[39;00m data\n\u001B[1;32m     58\u001B[0m \u001B[38;5;28;01melse\u001B[39;00m:\n",
      "File \u001B[0;32m/opt/homebrew/Caskroom/miniforge/base/envs/windwhisper/lib/python3.10/site-packages/numpy/lib/function_base.py:2372\u001B[0m, in \u001B[0;36mvectorize.__call__\u001B[0;34m(self, *args, **kwargs)\u001B[0m\n\u001B[1;32m   2369\u001B[0m     \u001B[38;5;28mself\u001B[39m\u001B[38;5;241m.\u001B[39m_init_stage_2(\u001B[38;5;241m*\u001B[39margs, \u001B[38;5;241m*\u001B[39m\u001B[38;5;241m*\u001B[39mkwargs)\n\u001B[1;32m   2370\u001B[0m     \u001B[38;5;28;01mreturn\u001B[39;00m \u001B[38;5;28mself\u001B[39m\n\u001B[0;32m-> 2372\u001B[0m \u001B[38;5;28;01mreturn\u001B[39;00m \u001B[38;5;28;43mself\u001B[39;49m\u001B[38;5;241;43m.\u001B[39;49m\u001B[43m_call_as_normal\u001B[49m\u001B[43m(\u001B[49m\u001B[38;5;241;43m*\u001B[39;49m\u001B[43margs\u001B[49m\u001B[43m,\u001B[49m\u001B[43m \u001B[49m\u001B[38;5;241;43m*\u001B[39;49m\u001B[38;5;241;43m*\u001B[39;49m\u001B[43mkwargs\u001B[49m\u001B[43m)\u001B[49m\n",
      "File \u001B[0;32m/opt/homebrew/Caskroom/miniforge/base/envs/windwhisper/lib/python3.10/site-packages/numpy/lib/function_base.py:2365\u001B[0m, in \u001B[0;36mvectorize._call_as_normal\u001B[0;34m(self, *args, **kwargs)\u001B[0m\n\u001B[1;32m   2362\u001B[0m     vargs \u001B[38;5;241m=\u001B[39m [args[_i] \u001B[38;5;28;01mfor\u001B[39;00m _i \u001B[38;5;129;01min\u001B[39;00m inds]\n\u001B[1;32m   2363\u001B[0m     vargs\u001B[38;5;241m.\u001B[39mextend([kwargs[_n] \u001B[38;5;28;01mfor\u001B[39;00m _n \u001B[38;5;129;01min\u001B[39;00m names])\n\u001B[0;32m-> 2365\u001B[0m \u001B[38;5;28;01mreturn\u001B[39;00m \u001B[38;5;28;43mself\u001B[39;49m\u001B[38;5;241;43m.\u001B[39;49m\u001B[43m_vectorize_call\u001B[49m\u001B[43m(\u001B[49m\u001B[43mfunc\u001B[49m\u001B[38;5;241;43m=\u001B[39;49m\u001B[43mfunc\u001B[49m\u001B[43m,\u001B[49m\u001B[43m \u001B[49m\u001B[43margs\u001B[49m\u001B[38;5;241;43m=\u001B[39;49m\u001B[43mvargs\u001B[49m\u001B[43m)\u001B[49m\n",
      "File \u001B[0;32m/opt/homebrew/Caskroom/miniforge/base/envs/windwhisper/lib/python3.10/site-packages/numpy/lib/function_base.py:2458\u001B[0m, in \u001B[0;36mvectorize._vectorize_call\u001B[0;34m(self, func, args)\u001B[0m\n\u001B[1;32m   2455\u001B[0m outputs \u001B[38;5;241m=\u001B[39m ufunc(\u001B[38;5;241m*\u001B[39minputs)\n\u001B[1;32m   2457\u001B[0m \u001B[38;5;28;01mif\u001B[39;00m ufunc\u001B[38;5;241m.\u001B[39mnout \u001B[38;5;241m==\u001B[39m \u001B[38;5;241m1\u001B[39m:\n\u001B[0;32m-> 2458\u001B[0m     res \u001B[38;5;241m=\u001B[39m \u001B[43masanyarray\u001B[49m\u001B[43m(\u001B[49m\u001B[43moutputs\u001B[49m\u001B[43m,\u001B[49m\u001B[43m \u001B[49m\u001B[43mdtype\u001B[49m\u001B[38;5;241;43m=\u001B[39;49m\u001B[43motypes\u001B[49m\u001B[43m[\u001B[49m\u001B[38;5;241;43m0\u001B[39;49m\u001B[43m]\u001B[49m\u001B[43m)\u001B[49m\n\u001B[1;32m   2459\u001B[0m \u001B[38;5;28;01melse\u001B[39;00m:\n\u001B[1;32m   2460\u001B[0m     res \u001B[38;5;241m=\u001B[39m \u001B[38;5;28mtuple\u001B[39m([asanyarray(x, dtype\u001B[38;5;241m=\u001B[39mt)\n\u001B[1;32m   2461\u001B[0m                  \u001B[38;5;28;01mfor\u001B[39;00m x, t \u001B[38;5;129;01min\u001B[39;00m \u001B[38;5;28mzip\u001B[39m(outputs, otypes)])\n",
      "\u001B[0;31mTypeError\u001B[0m: int() argument must be a string, a bytes-like object or a real number, not 'NoneType'"
     ]
    },
    {
     "data": {
      "text/plain": [
       "<Figure size 640x480 with 1 Axes>"
      ],
      "image/png": "[encoded data removed]"
     },
     "metadata": {},
     "output_type": "display_data"
    }
   ],
   "execution_count": 3
  },
  {
   "metadata": {
    "ExecuteTime": {
     "end_time": "2025-01-08T21:12:52.265383Z",
     "start_time": "2025-01-08T20:59:48.734843Z"
    }
   },
   "cell_type": "code",
   "source": [
    "import folium\n",
    "\n",
    "# Define a style function to use the 'color' property from the GeoJSON data\n",
    "def style_function(feature):\n",
    "    return {\n",
    "        'color': feature['properties'].get('color', 'blue'),  # Default to blue if 'color' is not specified\n",
    "        'weight': 2,  # Line weight\n",
    "    }\n",
    "\n",
    "def add_legend(map_object):\n",
    "    \"\"\"\n",
    "    Adds a legend to the Folium map.\n",
    "\n",
    "    :param map_object: The Folium map object to add the legend to.\n",
    "    :param color_map: A dictionary mapping contour levels to colors.\n",
    "    \"\"\"\n",
    "    legend_html = \"\"\"\n",
    "    <div style=\"\n",
    "        position: fixed;\n",
    "        bottom: 50px; left: 15px; width: 200px; height: auto;\n",
    "        background-color: white; z-index:9999; font-size:14px;\n",
    "        border:2px solid grey; padding: 10px; border-radius: 5px;\n",
    "    \">\n",
    "    <strong>Legend</strong><br>\n",
    "    \"\"\"\n",
    "    for level, color in color_map.items():\n",
    "        legend_html += f\"\"\"\n",
    "        <i style=\"background: {color}; width: 10px; height: 10px; display: inline-block; margin-right: 10px;\"></i>\n",
    "        {level} dB(A)<br>\n",
    "        \"\"\"\n",
    "    legend_html += \"</div>\"\n",
    "\n",
    "    # Wrap the HTML in a folium Element and add it to the map\n",
    "    legend = folium.Element(legend_html)\n",
    "    map_object.get_root().html.add_child(legend)\n",
    "\n",
    "    return map_object\n",
    "\n",
    "# Create a base map\n",
    "base_map = folium.Map(location=[50, 10], zoom_start=4)  # Centered in Europe\n",
    "\n",
    "# Add GeoJSON layers to the map\n",
    "for geojson_obj in geojson_objs:\n",
    "    folium.GeoJson(geojson_obj, style_function=style_function).add_to(base_map)\n",
    "\n",
    "# Add the legend\n",
    "base_map = add_legend(base_map)\n",
    "\n",
    "# Save the map to a file to display\n",
    "output_map_path = 'eu_map_with_turbines.html'\n",
    "base_map.save(output_map_path)\n",
    "\n",
    "output_map_path"
   ],
   "id": "546e7f602a81fb3e",
   "outputs": [
    {
     "data": {
      "text/plain": [
       "'eu_map_with_turbines.html'"
      ]
     },
     "execution_count": 5,
     "metadata": {},
     "output_type": "execute_result"
    }
   ],
   "execution_count": 5
  },
  {
   "metadata": {
    "ExecuteTime": {
     "end_time": "2025-01-08T18:58:44.557308Z",
     "start_time": "2025-01-08T18:56:15.833675Z"
    }
   },
   "cell_type": "code",
   "source": [
    "import xarray as xr\n",
    "import os\n",
    "\n",
    "# Paths to the uploaded files\n",
    "# list all file ending with .nc in the \"eu_map\" directory\n",
    "file_paths = [os.path.join(\"eu_map\", f) for f in os.listdir(\"eu_map\") if f.endswith(\".nc\")]\n",
    "\n",
    "# Load all netCDF files into a list of datasets\n",
    "datasets = [xr.open_dataset(fp) for fp in file_paths]\n",
    "\n",
    "# Extract unique latitude and longitude values across all datasets\n",
    "common_lat = sorted(set(lat for ds in datasets for lat in ds['lat'].values))\n",
    "common_lon = sorted(set(lon for ds in datasets for lon in ds['lon'].values))\n",
    "\n",
    "# Interpolate each dataset to align with the common latitude and longitude grid\n",
    "harmonized_datasets = [ds.interp(lat=common_lat, lon=common_lon) for ds in datasets]\n",
    "\n",
    "# Stack datasets along a new temporary dimension and reduce\n",
    "stacked = xr.concat(harmonized_datasets, dim=\"turbine\")\n",
    "merged_dataset = stacked.mean(dim=\"turbine\", skipna=True)\n"
   ],
   "id": "ddd76f088bbd5d0d",
   "outputs": [],
   "execution_count": null
  },
  {
   "metadata": {
    "ExecuteTime": {
     "end_time": "2025-01-08T18:55:03.622045Z",
     "start_time": "2025-01-08T18:55:03.615211Z"
    }
   },
   "cell_type": "code",
   "source": "from windwhisper.plotting import generate_map",
   "id": "adcc7e2bbb4b73a5",
   "outputs": [],
   "execution_count": 12
  },
  {
   "metadata": {
    "ExecuteTime": {
     "end_time": "2025-01-08T18:55:06.240030Z",
     "start_time": "2025-01-08T18:55:05.215936Z"
    }
   },
   "cell_type": "code",
   "source": "generate_map(merged_dataset)",
   "id": "d422895b64cb9f21",
   "outputs": [
    {
     "data": {
      "text/plain": [
       "<Figure size 640x480 with 1 Axes>"
      ],
      "image/png": "[encoded data removed]"
     },
     "metadata": {},
     "output_type": "display_data"
    }
   ],
   "execution_count": 13
  },
  {
   "metadata": {
    "ExecuteTime": {
     "end_time": "2025-01-08T18:55:26.183769Z",
     "start_time": "2025-01-08T18:55:25.942843Z"
    }
   },
   "cell_type": "code",
   "source": "merged_dataset.sum()",
   "id": "f959e634aafe51aa",
   "outputs": [
    {
     "data": {
      "text/plain": [
       "<xarray.Dataset>\n",
       "Dimensions:  ()\n",
       "Coordinates:\n",
       "    hour     int64 0\n",
       "Data variables:\n",
       "    net      float64 0.0"
      ],
      "text/html": [
       "<div><svg style=\"position: absolute; width: 0; height: 0; overflow: hidden\">\n",
       "<defs>\n",
       "<symbol id=\"icon-database\" viewBox=\"0 0 32 32\">\n",
       "<path d=\"M16 0c-8.837 0-16 2.239-16 5v4c0 2.761 7.163 5 16 5s16-2.239 16-5v-4c0-2.761-7.163-5-16-5z\"></path>\n",
       "<path d=\"M16 17c-8.837 0-16-2.239-16-5v6c0 2.761 7.163 5 16 5s16-2.239 16-5v-6c0 2.761-7.163 5-16 5z\"></path>\n",
       "<path d=\"M16 26c-8.837 0-16-2.239-16-5v6c0 2.761 7.163 5 16 5s16-2.239 16-5v-6c0 2.761-7.163 5-16 5z\"></path>\n",
       "</symbol>\n",
       "<symbol id=\"icon-file-text2\" viewBox=\"0 0 32 32\">\n",
       "<path d=\"M28.681 7.159c-0.694-0.947-1.662-2.053-2.724-3.116s-2.169-2.030-3.116-2.724c-1.612-1.182-2.393-1.319-2.841-1.319h-15.5c-1.378 0-2.5 1.121-2.5 2.5v27c0 1.378 1.122 2.5 2.5 2.5h23c1.378 0 2.5-1.122 2.5-2.5v-19.5c0-0.448-0.137-1.23-1.319-2.841zM24.543 5.457c0.959 0.959 1.712 1.825 2.268 2.543h-4.811v-4.811c0.718 0.556 1.584 1.309 2.543 2.268zM28 29.5c0 0.271-0.229 0.5-0.5 0.5h-23c-0.271 0-0.5-0.229-0.5-0.5v-27c0-0.271 0.229-0.5 0.5-0.5 0 0 15.499-0 15.5 0v7c0 0.552 0.448 1 1 1h7v19.5z\"></path>\n",
       "<path d=\"M23 26h-14c-0.552 0-1-0.448-1-1s0.448-1 1-1h14c0.552 0 1 0.448 1 1s-0.448 1-1 1z\"></path>\n",
       "<path d=\"M23 22h-14c-0.552 0-1-0.448-1-1s0.448-1 1-1h14c0.552 0 1 0.448 1 1s-0.448 1-1 1z\"></path>\n",
       "<path d=\"M23 18h-14c-0.552 0-1-0.448-1-1s0.448-1 1-1h14c0.552 0 1 0.448 1 1s-0.448 1-1 1z\"></path>\n",
       "</symbol>\n",
       "</defs>\n",
       "</svg>\n",
       "<style>/* CSS stylesheet for displaying xarray objects in jupyterlab.\n",
       " *\n",
       " */\n",
       "\n",
       ":root {\n",
       "  --xr-font-color0: var(--jp-content-font-color0, rgba(0, 0, 0, 1));\n",
       "  --xr-font-color2: var(--jp-content-font-color2, rgba(0, 0, 0, 0.54));\n",
       "  --xr-font-color3: var(--jp-content-font-color3, rgba(0, 0, 0, 0.38));\n",
       "  --xr-border-color: var(--jp-border-color2, #e0e0e0);\n",
       "  --xr-disabled-color: var(--jp-layout-color3, #bdbdbd);\n",
       "  --xr-background-color: var(--jp-layout-color0, white);\n",
       "  --xr-background-color-row-even: var(--jp-layout-color1, white);\n",
       "  --xr-background-color-row-odd: var(--jp-layout-color2, #eeeeee);\n",
       "}\n",
       "\n",
       "html[theme=dark],\n",
       "body[data-theme=dark],\n",
       "body.vscode-dark {\n",
       "  --xr-font-color0: rgba(255, 255, 255, 1);\n",
       "  --xr-font-color2: rgba(255, 255, 255, 0.54);\n",
       "  --xr-font-color3: rgba(255, 255, 255, 0.38);\n",
       "  --xr-border-color: #1F1F1F;\n",
       "  --xr-disabled-color: #515151;\n",
       "  --xr-background-color: #111111;\n",
       "  --xr-background-color-row-even: #111111;\n",
       "  --xr-background-color-row-odd: #313131;\n",
       "}\n",
       "\n",
       ".xr-wrap {\n",
       "  display: block !important;\n",
       "  min-width: 300px;\n",
       "  max-width: 700px;\n",
       "}\n",
       "\n",
       ".xr-text-repr-fallback {\n",
       "  /* fallback to plain text repr when CSS is not injected (untrusted notebook) */\n",
       "  display: none;\n",
       "}\n",
       "\n",
       ".xr-header {\n",
       "  padding-top: 6px;\n",
       "  padding-bottom: 6px;\n",
       "  margin-bottom: 4px;\n",
       "  border-bottom: solid 1px var(--xr-border-color);\n",
       "}\n",
       "\n",
       ".xr-header > div,\n",
       ".xr-header > ul {\n",
       "  display: inline;\n",
       "  margin-top: 0;\n",
       "  margin-bottom: 0;\n",
       "}\n",
       "\n",
       ".xr-obj-type,\n",
       ".xr-array-name {\n",
       "  margin-left: 2px;\n",
       "  margin-right: 10px;\n",
       "}\n",
       "\n",
       ".xr-obj-type {\n",
       "  color: var(--xr-font-color2);\n",
       "}\n",
       "\n",
       ".xr-sections {\n",
       "  padding-left: 0 !important;\n",
       "  display: grid;\n",
       "  grid-template-columns: 150px auto auto 1fr 20px 20px;\n",
       "}\n",
       "\n",
       ".xr-section-item {\n",
       "  display: contents;\n",
       "}\n",
       "\n",
       ".xr-section-item input {\n",
       "  display: none;\n",
       "}\n",
       "\n",
       ".xr-section-item input + label {\n",
       "  color: var(--xr-disabled-color);\n",
       "}\n",
       "\n",
       ".xr-section-item input:enabled + label {\n",
       "  cursor: pointer;\n",
       "  color: var(--xr-font-color2);\n",
       "}\n",
       "\n",
       ".xr-section-item input:enabled + label:hover {\n",
       "  color: var(--xr-font-color0);\n",
       "}\n",
       "\n",
       ".xr-section-summary {\n",
       "  grid-column: 1;\n",
       "  color: var(--xr-font-color2);\n",
       "  font-weight: 500;\n",
       "}\n",
       "\n",
       ".xr-section-summary > span {\n",
       "  display: inline-block;\n",
       "  padding-left: 0.5em;\n",
       "}\n",
       "\n",
       ".xr-section-summary-in:disabled + label {\n",
       "  color: var(--xr-font-color2);\n",
       "}\n",
       "\n",
       ".xr-section-summary-in + label:before {\n",
       "  display: inline-block;\n",
       "  content: '►';\n",
       "  font-size: 11px;\n",
       "  width: 15px;\n",
       "  text-align: center;\n",
       "}\n",
       "\n",
       ".xr-section-summary-in:disabled + label:before {\n",
       "  color: var(--xr-disabled-color);\n",
       "}\n",
       "\n",
       ".xr-section-summary-in:checked + label:before {\n",
       "  content: '▼';\n",
       "}\n",
       "\n",
       ".xr-section-summary-in:checked + label > span {\n",
       "  display: none;\n",
       "}\n",
       "\n",
       ".xr-section-summary,\n",
       ".xr-section-inline-details {\n",
       "  padding-top: 4px;\n",
       "  padding-bottom: 4px;\n",
       "}\n",
       "\n",
       ".xr-section-inline-details {\n",
       "  grid-column: 2 / -1;\n",
       "}\n",
       "\n",
       ".xr-section-details {\n",
       "  display: none;\n",
       "  grid-column: 1 / -1;\n",
       "  margin-bottom: 5px;\n",
       "}\n",
       "\n",
       ".xr-section-summary-in:checked ~ .xr-section-details {\n",
       "  display: contents;\n",
       "}\n",
       "\n",
       ".xr-array-wrap {\n",
       "  grid-column: 1 / -1;\n",
       "  display: grid;\n",
       "  grid-template-columns: 20px auto;\n",
       "}\n",
       "\n",
       ".xr-array-wrap > label {\n",
       "  grid-column: 1;\n",
       "  vertical-align: top;\n",
       "}\n",
       "\n",
       ".xr-preview {\n",
       "  color: var(--xr-font-color3);\n",
       "}\n",
       "\n",
       ".xr-array-preview,\n",
       ".xr-array-data {\n",
       "  padding: 0 5px !important;\n",
       "  grid-column: 2;\n",
       "}\n",
       "\n",
       ".xr-array-data,\n",
       ".xr-array-in:checked ~ .xr-array-preview {\n",
       "  display: none;\n",
       "}\n",
       "\n",
       ".xr-array-in:checked ~ .xr-array-data,\n",
       ".xr-array-preview {\n",
       "  display: inline-block;\n",
       "}\n",
       "\n",
       ".xr-dim-list {\n",
       "  display: inline-block !important;\n",
       "  list-style: none;\n",
       "  padding: 0 !important;\n",
       "  margin: 0;\n",
       "}\n",
       "\n",
       ".xr-dim-list li {\n",
       "  display: inline-block;\n",
       "  padding: 0;\n",
       "  margin: 0;\n",
       "}\n",
       "\n",
       ".xr-dim-list:before {\n",
       "  content: '(';\n",
       "}\n",
       "\n",
       ".xr-dim-list:after {\n",
       "  content: ')';\n",
       "}\n",
       "\n",
       ".xr-dim-list li:not(:last-child):after {\n",
       "  content: ',';\n",
       "  padding-right: 5px;\n",
       "}\n",
       "\n",
       ".xr-has-index {\n",
       "  font-weight: bold;\n",
       "}\n",
       "\n",
       ".xr-var-list,\n",
       ".xr-var-item {\n",
       "  display: contents;\n",
       "}\n",
       "\n",
       ".xr-var-item > div,\n",
       ".xr-var-item label,\n",
       ".xr-var-item > .xr-var-name span {\n",
       "  background-color: var(--xr-background-color-row-even);\n",
       "  margin-bottom: 0;\n",
       "}\n",
       "\n",
       ".xr-var-item > .xr-var-name:hover span {\n",
       "  padding-right: 5px;\n",
       "}\n",
       "\n",
       ".xr-var-list > li:nth-child(odd) > div,\n",
       ".xr-var-list > li:nth-child(odd) > label,\n",
       ".xr-var-list > li:nth-child(odd) > .xr-var-name span {\n",
       "  background-color: var(--xr-background-color-row-odd);\n",
       "}\n",
       "\n",
       ".xr-var-name {\n",
       "  grid-column: 1;\n",
       "}\n",
       "\n",
       ".xr-var-dims {\n",
       "  grid-column: 2;\n",
       "}\n",
       "\n",
       ".xr-var-dtype {\n",
       "  grid-column: 3;\n",
       "  text-align: right;\n",
       "  color: var(--xr-font-color2);\n",
       "}\n",
       "\n",
       ".xr-var-preview {\n",
       "  grid-column: 4;\n",
       "}\n",
       "\n",
       ".xr-index-preview {\n",
       "  grid-column: 2 / 5;\n",
       "  color: var(--xr-font-color2);\n",
       "}\n",
       "\n",
       ".xr-var-name,\n",
       ".xr-var-dims,\n",
       ".xr-var-dtype,\n",
       ".xr-preview,\n",
       ".xr-attrs dt {\n",
       "  white-space: nowrap;\n",
       "  overflow: hidden;\n",
       "  text-overflow: ellipsis;\n",
       "  padding-right: 10px;\n",
       "}\n",
       "\n",
       ".xr-var-name:hover,\n",
       ".xr-var-dims:hover,\n",
       ".xr-var-dtype:hover,\n",
       ".xr-attrs dt:hover {\n",
       "  overflow: visible;\n",
       "  width: auto;\n",
       "  z-index: 1;\n",
       "}\n",
       "\n",
       ".xr-var-attrs,\n",
       ".xr-var-data,\n",
       ".xr-index-data {\n",
       "  display: none;\n",
       "  background-color: var(--xr-background-color) !important;\n",
       "  padding-bottom: 5px !important;\n",
       "}\n",
       "\n",
       ".xr-var-attrs-in:checked ~ .xr-var-attrs,\n",
       ".xr-var-data-in:checked ~ .xr-var-data,\n",
       ".xr-index-data-in:checked ~ .xr-index-data {\n",
       "  display: block;\n",
       "}\n",
       "\n",
       ".xr-var-data > table {\n",
       "  float: right;\n",
       "}\n",
       "\n",
       ".xr-var-name span,\n",
       ".xr-var-data,\n",
       ".xr-index-name div,\n",
       ".xr-index-data,\n",
       ".xr-attrs {\n",
       "  padding-left: 25px !important;\n",
       "}\n",
       "\n",
       ".xr-attrs,\n",
       ".xr-var-attrs,\n",
       ".xr-var-data,\n",
       ".xr-index-data {\n",
       "  grid-column: 1 / -1;\n",
       "}\n",
       "\n",
       "dl.xr-attrs {\n",
       "  padding: 0;\n",
       "  margin: 0;\n",
       "  display: grid;\n",
       "  grid-template-columns: 125px auto;\n",
       "}\n",
       "\n",
       ".xr-attrs dt,\n",
       ".xr-attrs dd {\n",
       "  padding: 0;\n",
       "  margin: 0;\n",
       "  float: left;\n",
       "  padding-right: 10px;\n",
       "  width: auto;\n",
       "}\n",
       "\n",
       ".xr-attrs dt {\n",
       "  font-weight: normal;\n",
       "  grid-column: 1;\n",
       "}\n",
       "\n",
       ".xr-attrs dt:hover span {\n",
       "  display: inline-block;\n",
       "  background: var(--xr-background-color);\n",
       "  padding-right: 10px;\n",
       "}\n",
       "\n",
       ".xr-attrs dd {\n",
       "  grid-column: 2;\n",
       "  white-space: pre-wrap;\n",
       "  word-break: break-all;\n",
       "}\n",
       "\n",
       ".xr-icon-database,\n",
       ".xr-icon-file-text2,\n",
       ".xr-no-icon {\n",
       "  display: inline-block;\n",
       "  vertical-align: middle;\n",
       "  width: 1em;\n",
       "  height: 1.5em !important;\n",
       "  stroke-width: 0;\n",
       "  stroke: currentColor;\n",
       "  fill: currentColor;\n",
       "}\n",
       "</style><pre class='xr-text-repr-fallback'>&lt;xarray.Dataset&gt;\n",
       "Dimensions:  ()\n",
       "Coordinates:\n",
       "    hour     int64 0\n",
       "Data variables:\n",
       "    net      float64 0.0</pre><div class='xr-wrap' style='display:none'><div class='xr-header'><div class='xr-obj-type'>xarray.Dataset</div></div><ul class='xr-sections'><li class='xr-section-item'><input id='section-826a6410-fdf5-45fa-b199-947b0ac61179' class='xr-section-summary-in' type='checkbox' disabled ><label for='section-826a6410-fdf5-45fa-b199-947b0ac61179' class='xr-section-summary'  title='Expand/collapse section'>Dimensions:</label><div class='xr-section-inline-details'></div><div class='xr-section-details'></div></li><li class='xr-section-item'><input id='section-834616dc-f751-42cf-8f45-180e63d25fee' class='xr-section-summary-in' type='checkbox'  checked><label for='section-834616dc-f751-42cf-8f45-180e63d25fee' class='xr-section-summary' >Coordinates: <span>(1)</span></label><div class='xr-section-inline-details'></div><div class='xr-section-details'><ul class='xr-var-list'><li class='xr-var-item'><div class='xr-var-name'><span>hour</span></div><div class='xr-var-dims'>()</div><div class='xr-var-dtype'>int64</div><div class='xr-var-preview xr-preview'>0</div><input id='attrs-14f485f8-6f34-4a94-9600-66db795a8916' class='xr-var-attrs-in' type='checkbox' disabled><label for='attrs-14f485f8-6f34-4a94-9600-66db795a8916' title='Show/Hide attributes'><svg class='icon xr-icon-file-text2'><use xlink:href='#icon-file-text2'></use></svg></label><input id='data-88bf9e02-b102-4bde-8df0-ccaa89597786' class='xr-var-data-in' type='checkbox'><label for='data-88bf9e02-b102-4bde-8df0-ccaa89597786' title='Show/Hide data repr'><svg class='icon xr-icon-database'><use xlink:href='#icon-database'></use></svg></label><div class='xr-var-attrs'><dl class='xr-attrs'></dl></div><div class='xr-var-data'><pre>array(0)</pre></div></li></ul></div></li><li class='xr-section-item'><input id='section-5abe54f3-5e89-44d2-ab74-efeac37d5961' class='xr-section-summary-in' type='checkbox'  checked><label for='section-5abe54f3-5e89-44d2-ab74-efeac37d5961' class='xr-section-summary' >Data variables: <span>(1)</span></label><div class='xr-section-inline-details'></div><div class='xr-section-details'><ul class='xr-var-list'><li class='xr-var-item'><div class='xr-var-name'><span>net</span></div><div class='xr-var-dims'>()</div><div class='xr-var-dtype'>float64</div><div class='xr-var-preview xr-preview'>0.0</div><input id='attrs-d9154e1d-4d47-4ebd-bef3-4f80c955e1d4' class='xr-var-attrs-in' type='checkbox' disabled><label for='attrs-d9154e1d-4d47-4ebd-bef3-4f80c955e1d4' title='Show/Hide attributes'><svg class='icon xr-icon-file-text2'><use xlink:href='#icon-file-text2'></use></svg></label><input id='data-ff3ac76c-47ff-4f27-a8ca-74fcf4fb456a' class='xr-var-data-in' type='checkbox'><label for='data-ff3ac76c-47ff-4f27-a8ca-74fcf4fb456a' title='Show/Hide data repr'><svg class='icon xr-icon-database'><use xlink:href='#icon-database'></use></svg></label><div class='xr-var-attrs'><dl class='xr-attrs'></dl></div><div class='xr-var-data'><pre>array(0.)</pre></div></li></ul></div></li><li class='xr-section-item'><input id='section-4b747285-f118-454c-ac8a-1abe8fd74feb' class='xr-section-summary-in' type='checkbox' disabled ><label for='section-4b747285-f118-454c-ac8a-1abe8fd74feb' class='xr-section-summary'  title='Expand/collapse section'>Indexes: <span>(0)</span></label><div class='xr-section-inline-details'></div><div class='xr-section-details'><ul class='xr-var-list'></ul></div></li><li class='xr-section-item'><input id='section-2947b250-88a6-4a0a-8562-878b2666b02d' class='xr-section-summary-in' type='checkbox' disabled ><label for='section-2947b250-88a6-4a0a-8562-878b2666b02d' class='xr-section-summary'  title='Expand/collapse section'>Attributes: <span>(0)</span></label><div class='xr-section-inline-details'></div><div class='xr-section-details'><dl class='xr-attrs'></dl></div></li></ul></div></div>"
      ]
     },
     "execution_count": 15,
     "metadata": {},
     "output_type": "execute_result"
    }
   ],
   "execution_count": 15
  },
  {
   "metadata": {},
   "cell_type": "code",
   "outputs": [],
   "execution_count": null,
   "source": "",
   "id": "220557b1947d5f36"
  }
 ],
 "metadata": {
  "kernelspec": {
   "name": "python3",
   "language": "python",
   "display_name": "Python 3 (ipykernel)"
  }
 },
 "nbformat": 5,
 "nbformat_minor": 9
}
